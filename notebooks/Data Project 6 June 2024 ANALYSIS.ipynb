{
 "cells": [
  {
   "cell_type": "code",
   "execution_count": 27,
   "id": "9b7c6a78",
   "metadata": {},
   "outputs": [],
   "source": [
    "import pandas as pd\n",
    "from sklearn.model_selection import train_test_split\n",
    "from sklearn.linear_model import LinearRegression\n",
    "from sklearn.metrics import mean_squared_error\n",
    "from sklearn.preprocessing import OneHotEncoder\n",
    "\n",
    "data = pd.read_csv(r\"long_format_annual_surface_temp CLEANED.csv\")"
   ]
  },
  {
   "cell_type": "code",
   "execution_count": 28,
   "id": "347509a3",
   "metadata": {},
   "outputs": [
    {
     "name": "stdout",
     "output_type": "stream",
     "text": [
      "                        Country CountryID  Year  Temperature\n",
      "0  Afghanistan, Islamic Rep. of        AF  1961       -0.113\n",
      "1                       Albania        AL  1961        0.627\n",
      "2                       Algeria        DZ  1961        0.164\n",
      "3                American Samoa        AS  1961        0.079\n",
      "4      Andorra, Principality of        AD  1961        0.736\n",
      "Country         object\n",
      "CountryID       object\n",
      "Year             int64\n",
      "Temperature    float64\n",
      "dtype: object\n"
     ]
    }
   ],
   "source": [
    "print(data.head())\n",
    "print(data.dtypes)"
   ]
  },
  {
   "cell_type": "code",
   "execution_count": 29,
   "id": "9ef2f61d",
   "metadata": {},
   "outputs": [],
   "source": [
    "# One-hot encode the categorical columns\n",
    "onehotencoder = OneHotEncoder(drop='first', sparse_output=False)\n",
    "categorical_cols = ['Country', 'CountryID']\n",
    "onehot_encoded = onehotencoder.fit_transform(data[categorical_cols])\n",
    "onehot_encoded_df = pd.DataFrame(onehot_encoded, columns=onehotencoder.get_feature_names_out(categorical_cols))\n",
    "\n",
    "# Concatenate one-hot encoded columns with the original dataset (excluding the original categorical columns)\n",
    "data_processed = pd.concat([onehot_encoded_df, data[['Year', 'Temperature']]], axis=1)"
   ]
  },
  {
   "cell_type": "code",
   "execution_count": 30,
   "id": "e787108e",
   "metadata": {},
   "outputs": [],
   "source": [
    "# Define features (X) and target variable (y)\n",
    "X = data_processed.drop('Temperature', axis=1)\n",
    "y = data_processed['Temperature']"
   ]
  },
  {
   "cell_type": "code",
   "execution_count": 31,
   "id": "b03fec1c",
   "metadata": {},
   "outputs": [
    {
     "name": "stdout",
     "output_type": "stream",
     "text": [
      "Mean Squared Error: 0.16947819549058812\n",
      "Correlation Matrix:\n",
      "                 Year  Temperature\n",
      "Year         1.000000     0.720382\n",
      "Temperature  0.720382     1.000000\n"
     ]
    }
   ],
   "source": [
    "# Split the data into training and testing sets\n",
    "X_train, X_test, y_train, y_test = train_test_split(X, y, test_size=0.3, random_state=200)\n",
    "\n",
    "# Initialize and train the linear regression model\n",
    "reg = LinearRegression().fit(X_train, y_train)\n",
    "\n",
    "# Make predictions on the testing set\n",
    "y_pred = reg.predict(X_test)\n",
    "\n",
    "# Evaluate the model\n",
    "mse = mean_squared_error(y_test, y_pred)\n",
    "print(\"Mean Squared Error:\", mse)\n",
    "\n",
    "# Additional analysis (e.g., correlation)\n",
    "correlation_matrix = data.corr()\n",
    "print(\"Correlation Matrix:\")\n",
    "print(correlation_matrix)"
   ]
  },
  {
   "cell_type": "code",
   "execution_count": null,
   "id": "091560fb",
   "metadata": {},
   "outputs": [],
   "source": []
  }
 ],
 "metadata": {
  "kernelspec": {
   "display_name": "Python 3 (ipykernel)",
   "language": "python",
   "name": "python3"
  },
  "language_info": {
   "codemirror_mode": {
    "name": "ipython",
    "version": 3
   },
   "file_extension": ".py",
   "mimetype": "text/x-python",
   "name": "python",
   "nbconvert_exporter": "python",
   "pygments_lexer": "ipython3",
   "version": "3.9.5"
  }
 },
 "nbformat": 4,
 "nbformat_minor": 5
}
